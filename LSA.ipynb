{
 "cells": [
  {
   "cell_type": "code",
   "execution_count": 4,
   "id": "e2e3a120",
   "metadata": {},
   "outputs": [],
   "source": [
    "import os.path\n",
    "from gensim import corpora\n",
    "from gensim.models import LsiModel\n",
    "from nltk.tokenize import RegexpTokenizer\n",
    "from nltk.corpus import stopwords\n",
    "from nltk.stem.porter import PorterStemmer\n",
    "from gensim.models.coherencemodel import CoherenceModel\n",
    "import matplotlib.pyplot as plt\n"
   ]
  },
  {
   "cell_type": "code",
   "execution_count": 5,
   "id": "1f83d9db",
   "metadata": {},
   "outputs": [],
   "source": [
    "def load_data(path,file_name):\n",
    "    \n",
    "    documents_list = []\n",
    "    titles=[]\n",
    "    with open( os.path.join(path, file_name) ,\"r\",encoding=\"utf-8\") as fin:\n",
    "        for line in fin.readlines():\n",
    "            text = line.strip()\n",
    "            documents_list.append(text)\n",
    "    print(\"Total Number of Documents:\",len(documents_list))\n",
    "    titles.append( text[0:min(len(text),100)] )\n",
    "    return documents_list,titles"
   ]
  },
  {
   "cell_type": "code",
   "execution_count": 6,
   "id": "b247c7a0",
   "metadata": {},
   "outputs": [],
   "source": [
    "def preprocess_data(doc_set):\n",
    "   \n",
    "    \n",
    "    tokenizer = RegexpTokenizer(r'\\w+')\n",
    "    en_stop = set(stopwords.words('turkish'))\n",
    "    p_stemmer = PorterStemmer()\n",
    "    texts = []\n",
    "    \n",
    "    for i in doc_set:\n",
    "\n",
    "        raw = i.lower()\n",
    "        tokens = tokenizer.tokenize(raw)\n",
    "        stopped_tokens = [i for i in tokens if not i in en_stop]\n",
    "        stemmed_tokens = [p_stemmer.stem(i) for i in stopped_tokens]\n",
    "        texts.append(stemmed_tokens)\n",
    "    return texts"
   ]
  },
  {
   "cell_type": "code",
   "execution_count": 7,
   "id": "782bfab2",
   "metadata": {},
   "outputs": [],
   "source": [
    "def prepare_corpus(doc_clean):\n",
    "    \n",
    "    dictionary = corpora.Dictionary(doc_clean)\n",
    "    doc_term_matrix = [dictionary.doc2bow(doc) for doc in doc_clean]\n",
    "    \n",
    "    return dictionary,doc_term_matrix"
   ]
  },
  {
   "cell_type": "code",
   "execution_count": 8,
   "id": "2ddd7846",
   "metadata": {},
   "outputs": [],
   "source": [
    "\n",
    "def create_gensim_lsa_model(doc_clean,number_of_topics,words):\n",
    "    \n",
    "    dictionary,doc_term_matrix=prepare_corpus(doc_clean)\n",
    "    lsamodel = LsiModel(doc_term_matrix, num_topics=number_of_topics, id2word = dictionary)  # train model\n",
    "    print(lsamodel.print_topics(num_topics=number_of_topics, num_words=words))\n",
    "    return lsamodel"
   ]
  },
  {
   "cell_type": "code",
   "execution_count": 9,
   "id": "6eee8ab3",
   "metadata": {},
   "outputs": [],
   "source": [
    "def compute_coherence_values(dictionary, doc_term_matrix, doc_clean, stop, start=2, step=3):\n",
    "    \n",
    "    coherence_values = []\n",
    "    model_list = []\n",
    "    for num_topics in range(start, stop, step):\n",
    "       \n",
    "        model = LsiModel(doc_term_matrix, num_topics=number_of_topics, id2word = dictionary)  # train model\n",
    "        model_list.append(model)\n",
    "        coherencemodel = CoherenceModel(model=model, texts=doc_clean, dictionary=dictionary, coherence='c_v')\n",
    "        coherence_values.append(coherencemodel.get_coherence())\n",
    "    return model_list, coherence_values"
   ]
  },
  {
   "cell_type": "code",
   "execution_count": 10,
   "id": "72467948",
   "metadata": {},
   "outputs": [],
   "source": [
    "def plot_graph(doc_clean,start, stop, step):\n",
    "    dictionary,doc_term_matrix=prepare_corpus(doc_clean)\n",
    "    model_list, coherence_values = compute_coherence_values(dictionary, doc_term_matrix,doc_clean,\n",
    "                                                            stop, start, step,)\n",
    "   \n",
    "    x = range(start, stop, step)\n",
    "    plt.plot(x, coherence_values)\n",
    "    plt.xlabel(\"Number of Topics\")\n",
    "    plt.ylabel(\"Coherence score\")\n",
    "    plt.legend((\"coherence_values\"), loc='best')\n",
    "    plt.show()\n",
    "    \n",
    "   "
   ]
  },
  {
   "cell_type": "code",
   "execution_count": 11,
   "id": "1259e951",
   "metadata": {},
   "outputs": [
    {
     "name": "stdout",
     "output_type": "stream",
     "text": [
      "Total Number of Documents: 28\n",
      "[(0, '-0.394*\"mevcut\" + -0.322*\"41\" + -0.270*\"2\" + -0.256*\"28\" + -0.256*\"anadolu\" + -0.245*\"i\" + -0.199*\"atık\" + -0.182*\"1\" + -0.160*\"stasyonu\" + -0.147*\"29\"'), (1, '-0.283*\"avrupa\" + -0.283*\"29\" + -0.274*\"1\" + 0.274*\"2\" + 0.253*\"28\" + 0.253*\"anadolu\" + -0.180*\"le\" + -0.180*\"1659\" + -0.176*\"şi\" + 0.161*\"kemerburgaz\"'), (2, '-0.317*\"i\" + 0.258*\"kemerburgaz\" + -0.228*\"stasyonu\" + 0.211*\"hasdal\" + 0.210*\"tesisi\" + -0.194*\"katı\" + 0.188*\"köyü\" + -0.176*\"aktarma\" + -0.174*\"atık\" + 0.172*\"1325\"'), (3, '-0.349*\"çobançeşm\" + -0.318*\"yenibosna\" + -0.222*\"evler\" + -0.195*\"bahç\" + -0.195*\"2005\" + -0.195*\"40184\" + -0.195*\"sanayi\" + -0.192*\"40\" + -0.172*\"caddesi\" + 0.171*\"stasyonu\"'), (4, '0.257*\"hizmet\" + 0.243*\"birimi\" + 0.224*\"no\" + -0.214*\"hasdal\" + -0.206*\"stasyonu\" + -0.188*\"kemerburgaz\" + -0.182*\"aktarma\" + 0.175*\"41\" + -0.163*\"katı\" + -0.153*\"atık\"'), (5, '-0.261*\"birimi\" + 0.238*\"bb\" + 0.238*\"beyoğlu\" + 0.180*\"i\" + -0.171*\"cad\" + 0.171*\"atık\" + -0.145*\"hekimbaşı\" + -0.141*\"29\" + -0.141*\"avrupa\" + -0.130*\"maltep\"'), (6, '-0.258*\"hasdal\" + -0.206*\"bb\" + -0.206*\"beyoğlu\" + 0.203*\"halkalı\" + 0.169*\"mah\" + -0.164*\"i\" + -0.158*\"sokak\" + -0.145*\"hizmet\" + -0.138*\"hekimbaşı\" + -0.136*\"kemerburgaz\"')]\n"
     ]
    }
   ],
   "source": [
    "number_of_topics=7\n",
    "words=10\n",
    "document_list,titles=load_data(\"\",\"waste_facility.csv\")\n",
    "clean_text=preprocess_data(document_list)\n",
    "model=create_gensim_lsa_model(clean_text,number_of_topics,words)"
   ]
  },
  {
   "cell_type": "code",
   "execution_count": 12,
   "id": "b9044698",
   "metadata": {},
   "outputs": [
    {
     "data": {
      "image/png": "[encoded data removed]",
      "text/plain": [
       "<Figure size 432x288 with 1 Axes>"
      ]
     },
     "metadata": {
      "needs_background": "light"
     },
     "output_type": "display_data"
    }
   ],
   "source": [
    "start,stop,step= 2, 12, 1\n",
    "plot_graph(clean_text,start,stop,step)"
   ]
  },
  {
   "cell_type": "code",
   "execution_count": 13,
   "id": "f5f5babc",
   "metadata": {},
   "outputs": [],
   "source": [
    "from gensim.models import LsiModel\n",
    "from snowballstemmer import TurkishStemmer\n",
    "import pandas as pd\n",
    "import re\n",
    "import nltk"
   ]
  },
  {
   "cell_type": "code",
   "execution_count": 14,
   "id": "153097ef",
   "metadata": {},
   "outputs": [],
   "source": [
    "def freq(str): \n",
    "  \n",
    "    \n",
    "    str = str.split()          \n",
    "    str2 = [] \n",
    "  \n",
    "    \n",
    "    for i in str:              \n",
    "  \n",
    "       \n",
    "        if i not in str2: \n",
    "  \n",
    "           \n",
    "            str2.append(i)  \n",
    "              \n",
    "    for i in range(0, len(str2)): \n",
    "  \n",
    "        print('Frequency of', str2[i], 'is :', str.count(str2[i]))"
   ]
  },
  {
   "cell_type": "code",
   "execution_count": 15,
   "id": "faf6e0d5",
   "metadata": {},
   "outputs": [
    {
     "name": "stdout",
     "output_type": "stream",
     "text": [
      "Frequency of FACILITY_NAME,STATUS,ADDRESS,NEIGHBORHOOD_UAVT_CODE,NEIGHBORHOOD_NAME,COUNTY_UAVT_CODE,COUNTY_NAME,LOCATED_REGION_ID,LOCATED_REGION_NAME,LONGTITUDE,LATITUDE is : 1\n",
      "Frequency of Silivri is : 1\n",
      "Frequency of Katı is : 8\n",
      "Frequency of Atık is : 12\n",
      "Frequency of Aktarma is : 8\n",
      "Frequency of İstasyonu,Mevcut,Yenimahalle is : 1\n",
      "Frequency of 1 is : 1\n",
      "Frequency of Kasım is : 1\n",
      "Frequency of Cad. is : 7\n",
      "Frequency of Hasan is : 1\n",
      "Frequency of Çeşme is : 1\n",
      "Frequency of Mevkii is : 7\n",
      "Frequency of ,40921,YENİ,1622,SİLİVRİ,2,Anadolu,28.2901838395005,41.0910384187238 is : 1\n",
      "Frequency of Ümraniye is : 1\n",
      "Frequency of Hizmet is : 7\n",
      "Frequency of Birimi,Mevcut,Hekimbaşı is : 1\n",
      "Frequency of Küçüksu is : 1\n",
      "Frequency of Asfalt is : 1\n",
      "Frequency of sokak,40744,HEKİMBAŞI,1852,ÜMRANİYE,1,Avrupa,29.1057799005654,41.0573148489299 is : 1\n",
      "Frequency of Bakkalköy is : 1\n",
      "Frequency of İstasyonu is : 3\n",
      "Frequency of ,Mevcut,Atatürk is : 2\n",
      "Frequency of Mah. is : 6\n",
      "Frequency of Erzincan is : 1\n",
      "Frequency of ,40531,KÜÇÜKBAKKALKÖY,2049,ATAŞEHİR,1,Avrupa,29.1299673906002,40.9852051289414 is : 1\n",
      "Frequency of Kömürcüoda is : 3\n",
      "Frequency of Enerji is : 3\n",
      "Frequency of Üretim is : 3\n",
      "Frequency of (LFG) is : 1\n",
      "Frequency of Tesisi,Mevcut,K.Oda is : 1\n",
      "Frequency of Karakiraz is : 4\n",
      "Frequency of Köyü,191957,KARAKİRAZ,1659,ŞİLE,1,Avrupa,29.3774226299322,41.1457535289401 is : 1\n",
      "Frequency of Baruthane is : 1\n",
      "Frequency of İstasyonu,Mevcut,Paşa is : 1\n",
      "Frequency of Piyalepaşa is : 1\n",
      "Frequency of Bulvarı is : 1\n",
      "Frequency of No:74,40708,PAŞA,1663,ŞİŞLİ,2,Anadolu,28.9687040003943,41.0489899987435 is : 1\n",
      "Frequency of Yenibosna is : 2\n",
      "Frequency of İstasyonu,Mevcut,Yenibosna is : 1\n",
      "Frequency of Sanayi is : 3\n",
      "Frequency of Cad.,40184,ÇOBANÇEŞME,2005,BAHÇELİEVLER,2,Anadolu,28.8250659402433,40.9979405492631 is : 1\n",
      "Frequency of Elektronik is : 1\n",
      "Frequency of İşleme is : 1\n",
      "Frequency of ve is : 2\n",
      "Frequency of Geri is : 2\n",
      "Frequency of Kazanım is : 1\n",
      "Frequency of Tesisi is : 5\n",
      "Frequency of ,Mevcut,Çobançeşme is : 2\n",
      "Frequency of Mahallesi is : 4\n",
      "Frequency of Caddesi is : 3\n",
      "Frequency of Yenibosna,40184,ÇOBANÇEŞME,2005,BAHÇELİEVLER,2,Anadolu,28.8254799997465,40.9970129986921 is : 1\n",
      "Frequency of Açık is : 1\n",
      "Frequency of Kompost is : 2\n",
      "Frequency of Dönüşüm is : 1\n",
      "Frequency of ,Mevcut,K.Oda is : 2\n",
      "Frequency of Köyü,191957,KARAKİRAZ,1659,ŞİLE,1,Avrupa,29.3707492901884,41.1428449490565 is : 1\n",
      "Frequency of Halkalı is : 2\n",
      "Frequency of İstasyonu,Mevcut,Halkalı is : 1\n",
      "Frequency of Yarımburgaz is : 1\n",
      "Frequency of Fatih is : 1\n",
      "Frequency of ,40582,ATAKENT,1823,KÜÇÜKÇEKMECE,2,Anadolu,28.7624511097362,41.0433098889208 is : 1\n",
      "Frequency of Edirnekapı is : 1\n",
      "Frequency of Birimi is : 4\n",
      "Frequency of ,Mevcut,Edirnekapı is : 1\n",
      "Frequency of İ.E.T.T is : 1\n",
      "Frequency of Otobüs is : 1\n",
      "Frequency of Garajı is : 1\n",
      "Frequency of Yanı is : 2\n",
      "Frequency of Topçular is : 1\n",
      "Frequency of Bostan is : 1\n",
      "Frequency of Aralığı is : 1\n",
      "Frequency of Sk. is : 1\n",
      "Frequency of ,40376,TOPÇULAR,1325,EYÜPSULTAN,2,Anadolu,28.9296020003827,41.0300459994223 is : 1\n",
      "Frequency of KıraçHizmet is : 1\n",
      "Frequency of Cemal is : 1\n",
      "Frequency of Gürsel is : 1\n",
      "Frequency of No:14 is : 1\n",
      "Frequency of Kıraç,40881,ATATÜRK,2053,ESENYURT,2,Anadolu,28.6313501005367,41.0335342292881 is : 1\n",
      "Frequency of Odayeri is : 3\n",
      "Frequency of Düzenli is : 3\n",
      "Frequency of Depolama is : 3\n",
      "Frequency of Alanı is : 2\n",
      "Frequency of Tıbbi is : 1\n",
      "Frequency of Yakma is : 1\n",
      "Frequency of ,Mevcut,Göktürk is : 2\n",
      "Frequency of Köyü is : 4\n",
      "Frequency of Kemerburgaz,40379,GÖKTÜRK is : 3\n",
      "Frequency of MERKEZ,1325,EYÜPSULTAN,2,Anadolu,28.8545650003672,41.2161579991942 is : 1\n",
      "Frequency of MERKEZ,1325,EYÜPSULTAN,2,Anadolu,28.8577619995369,41.2127199994295 is : 1\n",
      "Frequency of Hasdal is : 5\n",
      "Frequency of Tesisi,Mevcut,Kemerburgaz is : 1\n",
      "Frequency of Yolu is : 3\n",
      "Frequency of Eski is : 2\n",
      "Frequency of Çöplüğü is : 2\n",
      "Frequency of Kemerburgaz,40369,MİMAR is : 1\n",
      "Frequency of SİNAN,1325,EYÜPSULTAN,2,Anadolu,28.9307905702657,41.1372243486914 is : 1\n",
      "Frequency of Aydınlı is : 1\n",
      "Frequency of İstasyonu,Mevcut,Aydınlı is : 1\n",
      "Frequency of Patlayıcılar is : 1\n",
      "Frequency of ,40720,AYDINLI,2015,TUZLA,1,Avrupa,29.3471512196003,40.8608823494234 is : 1\n",
      "Frequency of Alanı,Mevcut,K.Oda is : 1\n",
      "Frequency of Köyü,191957,KARAKİRAZ,1659,ŞİLE,1,Avrupa,29.3692714005402,41.1508654587288 is : 1\n",
      "Frequency of Endüstriyel is : 1\n",
      "Frequency of Köyü,191957,KARAKİRAZ,1659,ŞİLE,1,Avrupa,29.3769867698783,41.1461847590375 is : 1\n",
      "Frequency of Sancaktepe is : 1\n",
      "Frequency of İstasyonu,Proje,\" is : 1\n",
      "Frequency of \",192001,PAŞAKÖY,2054,SANCAKTEPE,1,Avrupa,29.2639611695787,41.0051680992884 is : 1\n",
      "Frequency of İBB is : 2\n",
      "Frequency of Yönetimi is : 1\n",
      "Frequency of Müdürlüğü is : 1\n",
      "Frequency of Beyoğlu is : 1\n",
      "Frequency of Ek is : 1\n",
      "Frequency of Binası is : 1\n",
      "Frequency of ,Mevcut,Hacıahmet is : 1\n",
      "Frequency of Yeniyol is : 1\n",
      "Frequency of Zarif is : 1\n",
      "Frequency of Sokak is : 2\n",
      "Frequency of No is : 1\n",
      "Frequency of : is : 1\n",
      "Frequency of 22 is : 1\n",
      "Frequency of 34440 is : 1\n",
      "Frequency of Kasımpaşa,40280,HACIAHMET,1186,BEYOĞLU,2,Anadolu,28.9715250005473,41.0389079990667 is : 1\n",
      "Frequency of Dolmabahçe is : 1\n",
      "Frequency of Birimi,Mevcut,Vişnezade is : 1\n",
      "Frequency of Kadırgalar is : 1\n",
      "Frequency of No:53 is : 1\n",
      "Frequency of ,40214,VİŞNEZADE,1183,BEŞİKTAŞ,2,Anadolu,28.9938199996169,41.0406779992191 is : 1\n",
      "Frequency of Yenibosna,40184,ÇOBANÇEŞME,2005,BAHÇELİEVLER,2,Anadolu,28.8251680001846,40.9968089989243 is : 1\n",
      "Frequency of Gaziosmanpaşa is : 1\n",
      "Frequency of Birimi,Mevcut,Cumhuriyet is : 1\n",
      "Frequency of Hilal is : 1\n",
      "Frequency of No:2,40465,CUMHURİYET,2055,SULTANGAZİ,2,Anadolu,28.8873780001592,41.0918899991622 is : 1\n",
      "Frequency of ,Mevcut,Kemerburgaz is : 1\n",
      "Frequency of MERKEZ,1325,EYÜPSULTAN,2,Anadolu,28.8534840000917,41.2161889994851 is : 1\n",
      "Frequency of Tesisi,Mevcut,Işıklar is : 1\n",
      "Frequency of Ege is : 1\n",
      "Frequency of No:5/1 is : 1\n",
      "Frequency of Kısırmandıra is : 1\n",
      "Frequency of Kemerburgaz,191747,IŞIKLAR,1325,EYÜPSULTAN,2,Anadolu,28.8183579998198,41.2214989986859 is : 1\n",
      "Frequency of Maltepe is : 1\n",
      "Frequency of ,Mevcut,70 is : 1\n",
      "Frequency of Evler is : 1\n",
      "Frequency of Gülsuyu is : 1\n",
      "Frequency of Mezarlığı is : 1\n",
      "Frequency of Üstü,40623,ZÜMRÜTEVLER,2012,MALTEPE,1,Avrupa,29.155083599478,40.9344252894451 is : 1\n",
      "Frequency of Hekimbaşı is : 1\n",
      "Frequency of Aktama is : 1\n",
      "Frequency of ,Mevcut,Hekimbaşı is : 1\n",
      "Frequency of Mah.Küçüksu is : 1\n",
      "Frequency of No: is : 1\n",
      "Frequency of Bila,40737,İNKILAP,1852,ÜMRANİYE,1,Avrupa,29.1134074295466,41.0583185290947 is : 1\n",
      "Frequency of Şile is : 1\n",
      "Frequency of İstasyonu,Mevcut,Şile is : 1\n",
      "Frequency of Araç is : 1\n",
      "Frequency of Muayene is : 1\n",
      "Frequency of ,191867,ÇAYIRBAŞI,1659,ŞİLE,1,Avrupa,29.6394637205028,41.1531375293419 is : 1\n"
     ]
    }
   ],
   "source": [
    "f = open('waste_facility.csv', 'r', encoding='utf8')\n",
    "doc = f.read()\n",
    "\n",
    "freq(doc)"
   ]
  },
  {
   "cell_type": "code",
   "execution_count": 16,
   "id": "3da36e53",
   "metadata": {},
   "outputs": [],
   "source": [
    "words = re.sub(r'[^\\w\\s]', '', doc).split()"
   ]
  },
  {
   "cell_type": "code",
   "execution_count": 17,
   "id": "1ad62988",
   "metadata": {},
   "outputs": [
    {
     "data": {
      "text/plain": [
       "(Katı, Atık)       8\n",
       "(Atık, Aktarma)    7\n",
       "dtype: int64"
      ]
     },
     "execution_count": 17,
     "metadata": {},
     "output_type": "execute_result"
    }
   ],
   "source": [
    "count_bigrams = (pd.Series(nltk.ngrams(words, 2)).value_counts())\n",
    "count_bigrams[count_bigrams > 5]"
   ]
  },
  {
   "cell_type": "code",
   "execution_count": 18,
   "id": "bb951e9a",
   "metadata": {},
   "outputs": [
    {
     "data": {
      "text/plain": [
       "(Katı, Atık, Aktarma)    7\n",
       "dtype: int64"
      ]
     },
     "execution_count": 18,
     "metadata": {},
     "output_type": "execute_result"
    }
   ],
   "source": [
    "count_trigrams = (pd.Series(nltk.ngrams(words, 3)).value_counts())\n",
    "count_trigrams[count_trigrams > 5]"
   ]
  },
  {
   "cell_type": "code",
   "execution_count": 19,
   "id": "3cebf0e9",
   "metadata": {},
   "outputs": [],
   "source": [
    "from csv import reader"
   ]
  },
  {
   "cell_type": "code",
   "execution_count": 20,
   "id": "095fc050",
   "metadata": {},
   "outputs": [
    {
     "name": "stdout",
     "output_type": "stream",
     "text": [
      "[['FACILITY_NAME', 'STATUS', 'ADDRESS', 'NEIGHBORHOOD_UAVT_CODE', 'NEIGHBORHOOD_NAME', 'COUNTY_UAVT_CODE', 'COUNTY_NAME', 'LOCATED_REGION_ID', 'LOCATED_REGION_NAME', 'LONGTITUDE', 'LATITUDE'], ['Silivri Katı Atık Aktarma İstasyonu', 'Mevcut', 'Yenimahalle 1 Kasım Cad. Hasan Çeşme Mevkii ', '40921', 'YENİ', '1622', 'SİLİVRİ', '2', 'Anadolu', '28.2901838395005', '41.0910384187238'], ['Ümraniye Hizmet Birimi', 'Mevcut', 'Hekimbaşı Küçüksu Cad. Asfalt sokak', '40744', 'HEKİMBAŞI', '1852', 'ÜMRANİYE', '1', 'Avrupa', '29.1057799005654', '41.0573148489299'], ['Bakkalköy Katı Atık Aktarma İstasyonu ', 'Mevcut', 'Atatürk Mah. Erzincan Cad. ', '40531', 'KÜÇÜKBAKKALKÖY', '2049', 'ATAŞEHİR', '1', 'Avrupa', '29.1299673906002', '40.9852051289414'], ['Kömürcüoda Enerji Üretim (LFG) Tesisi', 'Mevcut', 'K.Oda Mevkii Karakiraz Köyü', '191957', 'KARAKİRAZ', '1659', 'ŞİLE', '1', 'Avrupa', '29.3774226299322', '41.1457535289401'], ['Baruthane Katı Atık Aktarma İstasyonu', 'Mevcut', 'Paşa Mah. Piyalepaşa Bulvarı No:74', '40708', 'PAŞA', '1663', 'ŞİŞLİ', '2', 'Anadolu', '28.9687040003943', '41.0489899987435'], ['Yenibosna Katı Atık Aktarma İstasyonu', 'Mevcut', 'Yenibosna Sanayi Cad.', '40184', 'ÇOBANÇEŞME', '2005', 'BAHÇELİEVLER', '2', 'Anadolu', '28.8250659402433', '40.9979405492631'], ['Elektronik Atık İşleme ve Geri Kazanım Tesisi ', 'Mevcut', 'Çobançeşme Mahallesi Sanayi Caddesi Yenibosna', '40184', 'ÇOBANÇEŞME', '2005', 'BAHÇELİEVLER', '2', 'Anadolu', '28.8254799997465', '40.9970129986921'], ['Açık Kompost ve Geri Dönüşüm Tesisi ', 'Mevcut', 'K.Oda Mevkii Karakiraz Köyü', '191957', 'KARAKİRAZ', '1659', 'ŞİLE', '1', 'Avrupa', '29.3707492901884', '41.1428449490565'], ['Halkalı Katı Atık Aktarma İstasyonu', 'Mevcut', 'Halkalı Yarımburgaz Mah. Fatih Cad. Halkalı ', '40582', 'ATAKENT', '1823', 'KÜÇÜKÇEKMECE', '2', 'Anadolu', '28.7624511097362', '41.0433098889208'], ['Edirnekapı Hizmet Birimi ', 'Mevcut', 'Edirnekapı İ.E.T.T Otobüs Garajı Yanı Topçular Mah. Bostan Aralığı Sk. ', '40376', 'TOPÇULAR', '1325', 'EYÜPSULTAN', '2', 'Anadolu', '28.9296020003827', '41.0300459994223'], ['KıraçHizmet Birimi ', 'Mevcut', 'Atatürk Mah. Cemal Gürsel Cad. No:14 Kıraç', '40881', 'ATATÜRK', '2053', 'ESENYURT', '2', 'Anadolu', '28.6313501005367', '41.0335342292881'], ['Odayeri Düzenli Depolama Alanı Tıbbi Atık Yakma Tesisi ', 'Mevcut', 'Göktürk Köyü Kemerburgaz', '40379', 'GÖKTÜRK MERKEZ', '1325', 'EYÜPSULTAN', '2', 'Anadolu', '28.8545650003672', '41.2161579991942'], ['Odayeri Düzenli Depolama Alanı ', 'Mevcut', 'Göktürk Köyü Kemerburgaz', '40379', 'GÖKTÜRK MERKEZ', '1325', 'EYÜPSULTAN', '2', 'Anadolu', '28.8577619995369', '41.2127199994295'], ['Hasdal Enerji Üretim Tesisi', 'Mevcut', 'Kemerburgaz Yolu Eski Hasdal Çöplüğü Hasdal Kemerburgaz', '40369', 'MİMAR SİNAN', '1325', 'EYÜPSULTAN', '2', 'Anadolu', '28.9307905702657', '41.1372243486914'], ['Aydınlı Katı Atık Aktarma İstasyonu', 'Mevcut', 'Aydınlı Köyü Patlayıcılar Yolu ', '40720', 'AYDINLI', '2015', 'TUZLA', '1', 'Avrupa', '29.3471512196003', '40.8608823494234'], ['Kömürcüoda Düzenli Depolama Alanı', 'Mevcut', 'K.Oda Mevkii Karakiraz Köyü', '191957', 'KARAKİRAZ', '1659', 'ŞİLE', '1', 'Avrupa', '29.3692714005402', '41.1508654587288'], ['Kömürcüoda Endüstriyel Atık Tesisi ', 'Mevcut', 'K.Oda Mevkii Karakiraz Köyü', '191957', 'KARAKİRAZ', '1659', 'ŞİLE', '1', 'Avrupa', '29.3769867698783', '41.1461847590375'], ['Sancaktepe Aktarma İstasyonu', 'Proje', ' ', '192001', 'PAŞAKÖY', '2054', 'SANCAKTEPE', '1', 'Avrupa', '29.2639611695787', '41.0051680992884'], ['İBB Atık Yönetimi Müdürlüğü İBB Beyoğlu Ek Hizmet Binası ', 'Mevcut', 'Hacıahmet Mahallesi Yeniyol Zarif Sokak No : 22 34440 Kasımpaşa', '40280', 'HACIAHMET', '1186', 'BEYOĞLU', '2', 'Anadolu', '28.9715250005473', '41.0389079990667'], ['Dolmabahçe Hizmet Birimi', 'Mevcut', 'Vişnezade Mah. Kadırgalar Cad. No:53 ', '40214', 'VİŞNEZADE', '1183', 'BEŞİKTAŞ', '2', 'Anadolu', '28.9938199996169', '41.0406779992191'], ['Yenibosna Hizmet Birimi ', 'Mevcut', 'Çobançeşme Mahallesi Sanayi Caddesi Yenibosna', '40184', 'ÇOBANÇEŞME', '2005', 'BAHÇELİEVLER', '2', 'Anadolu', '28.8251680001846', '40.9968089989243'], ['Gaziosmanpaşa Hizmet Birimi', 'Mevcut', 'Cumhuriyet Mahallesi Hilal Caddesi No:2', '40465', 'CUMHURİYET', '2055', 'SULTANGAZİ', '2', 'Anadolu', '28.8873780001592', '41.0918899991622'], ['Odayeri Enerji Üretim Tesisi ', 'Mevcut', 'Kemerburgaz Yolu Eski Hasdal Çöplüğü Hasdal Kemerburgaz', '40379', 'GÖKTÜRK MERKEZ', '1325', 'EYÜPSULTAN', '2', 'Anadolu', '28.8534840000917', '41.2161889994851'], ['Kompost Tesisi', 'Mevcut', 'Işıklar Köyü Ege Sokak No:5/1  Kısırmandıra Mevkii Kemerburgaz', '191747', 'IŞIKLAR', '1325', 'EYÜPSULTAN', '2', 'Anadolu', '28.8183579998198', '41.2214989986859'], ['Maltepe Hizmet Birimi ', 'Mevcut', '70 Evler Mevkii Gülsuyu Mezarlığı Üstü', '40623', 'ZÜMRÜTEVLER', '2012', 'MALTEPE', '1', 'Avrupa', '29.155083599478', '40.9344252894451'], ['Hekimbaşı Katı Atık Aktama İstasyonu ', 'Mevcut', 'Hekimbaşı Mah.Küçüksu Cad. No: Bila', '40737', 'İNKILAP', '1852', 'ÜMRANİYE', '1', 'Avrupa', '29.1134074295466', '41.0583185290947'], ['Şile Katı Atık Aktarma İstasyonu', 'Mevcut', 'Şile Araç Muayene İstasyonu Yanı ', '191867', 'ÇAYIRBAŞI', '1659', 'ŞİLE', '1', 'Avrupa', '29.6394637205028', '41.1531375293419']]\n"
     ]
    }
   ],
   "source": [
    "with open('waste_facility.csv',  encoding=\"utf8\") as read_obj:\n",
    "   \n",
    "    csv_reader = reader(read_obj)\n",
    "    list_of_rows = list(csv_reader)\n",
    "    print(list_of_rows)"
   ]
  },
  {
   "cell_type": "code",
   "execution_count": 21,
   "id": "8ce857bf",
   "metadata": {},
   "outputs": [
    {
     "name": "stderr",
     "output_type": "stream",
     "text": [
      "[nltk_data] Downloading package punkt to\n",
      "[nltk_data]     C:\\Users\\Asus\\AppData\\Roaming\\nltk_data...\n",
      "[nltk_data]   Package punkt is already up-to-date!\n",
      "[nltk_data] Downloading package stopwords to\n",
      "[nltk_data]     C:\\Users\\Asus\\AppData\\Roaming\\nltk_data...\n",
      "[nltk_data]   Package stopwords is already up-to-date!\n"
     ]
    }
   ],
   "source": [
    "import re\n",
    "import nltk\n",
    "\n",
    "\n",
    "nltk.download('punkt')\n",
    "from nltk.tokenize import word_tokenize\n",
    "\n",
    "\n",
    "nltk.download('stopwords')\n",
    "from nltk.corpus import stopwords\n",
    "\n",
    "from nltk.stem.porter import PorterStemmer\n",
    "stemmer = PorterStemmer()\n",
    "\n",
    "def process_text(text):\n",
    "  \n",
    "    text = re.sub('[^A-Za-z]', ' ', text.lower())\n",
    "    tokenized_text = word_tokenize(text)\n",
    "    clean_text = [\n",
    "        stemmer.stem(word) for word in tokenized_text\n",
    "        if word not in stopwords.words('english')\n",
    "    ]\n",
    "\n",
    "    \n",
    "    return clean_text"
   ]
  },
  {
   "cell_type": "code",
   "execution_count": 22,
   "id": "c435863a",
   "metadata": {},
   "outputs": [],
   "source": [
    "list_of_rows = list_of_rows[1:]\n",
    "\n",
    "texts = [row[0] for row in list_of_rows]\n",
    "topics = [row[2] for row in list_of_rows]\n",
    "\n",
    "\n",
    "texts = [\" \".join(process_text(text)) for text in texts]"
   ]
  },
  {
   "cell_type": "code",
   "execution_count": 23,
   "id": "775dd84f",
   "metadata": {},
   "outputs": [],
   "source": [
    "from sklearn.feature_extraction.text import CountVectorizer"
   ]
  },
  {
   "cell_type": "code",
   "execution_count": 31,
   "id": "944b4029",
   "metadata": {},
   "outputs": [],
   "source": [
    "matrix = CountVectorizer(max_features=100000)\n",
    "vectors = matrix.fit_transform(texts).toarray()"
   ]
  },
  {
   "cell_type": "code",
   "execution_count": 32,
   "id": "4f17e5d7",
   "metadata": {},
   "outputs": [],
   "source": [
    "from sklearn.model_selection import train_test_split"
   ]
  },
  {
   "cell_type": "code",
   "execution_count": 33,
   "id": "eda044cc",
   "metadata": {},
   "outputs": [],
   "source": [
    "vectors_train, vectors_test, topics_train, topics_test = train_test_split(vectors, topics)"
   ]
  },
  {
   "cell_type": "code",
   "execution_count": 34,
   "id": "3ade403e",
   "metadata": {},
   "outputs": [],
   "source": [
    "from sklearn.naive_bayes import GaussianNB"
   ]
  },
  {
   "cell_type": "code",
   "execution_count": 35,
   "id": "c70f0723",
   "metadata": {},
   "outputs": [
    {
     "data": {
      "text/plain": [
       "GaussianNB()"
      ]
     },
     "execution_count": 35,
     "metadata": {},
     "output_type": "execute_result"
    }
   ],
   "source": [
    "classifier = GaussianNB()\n",
    "classifier.fit(vectors_train, topics_train)"
   ]
  },
  {
   "cell_type": "code",
   "execution_count": 36,
   "id": "685f9db4",
   "metadata": {},
   "outputs": [],
   "source": [
    "topics_pred = classifier.predict(vectors_test)"
   ]
  },
  {
   "cell_type": "code",
   "execution_count": 37,
   "id": "5faea76a",
   "metadata": {},
   "outputs": [
    {
     "name": "stdout",
     "output_type": "stream",
     "text": [
      "                                                                         precision    recall  f1-score   support\n",
      "\n",
      "                                 70 Evler Mevkii Gülsuyu Mezarlığı Üstü       0.00      0.00      0.00         1\n",
      "                             Atatürk Mah. Cemal Gürsel Cad. No:14 Kıraç       0.00      0.00      0.00         0\n",
      "                                            Atatürk Mah. Erzincan Cad.        0.00      0.00      0.00         0\n",
      "Edirnekapı İ.E.T.T Otobüs Garajı Yanı Topçular Mah. Bostan Aralığı Sk.        0.00      0.00      0.00         1\n",
      "                                            K.Oda Mevkii Karakiraz Köyü       0.50      1.00      0.67         1\n",
      "                Kemerburgaz Yolu Eski Hasdal Çöplüğü Hasdal Kemerburgaz       1.00      1.00      1.00         1\n",
      "                                  Vişnezade Mah. Kadırgalar Cad. No:53        0.00      0.00      0.00         1\n",
      "                           Yenimahalle 1 Kasım Cad. Hasan Çeşme Mevkii        0.00      0.00      0.00         1\n",
      "                          Çobançeşme Mahallesi Sanayi Caddesi Yenibosna       0.00      0.00      0.00         1\n",
      "\n",
      "                                                               accuracy                           0.29         7\n",
      "                                                              macro avg       0.17      0.22      0.19         7\n",
      "                                                           weighted avg       0.21      0.29      0.24         7\n",
      "\n"
     ]
    },
    {
     "name": "stderr",
     "output_type": "stream",
     "text": [
      "c:\\users\\asus\\pycharmprojects\\metinmadenciliği\\venv\\lib\\site-packages\\sklearn\\metrics\\_classification.py:1245: UndefinedMetricWarning: Precision and F-score are ill-defined and being set to 0.0 in labels with no predicted samples. Use `zero_division` parameter to control this behavior.\n",
      "  _warn_prf(average, modifier, msg_start, len(result))\n",
      "c:\\users\\asus\\pycharmprojects\\metinmadenciliği\\venv\\lib\\site-packages\\sklearn\\metrics\\_classification.py:1245: UndefinedMetricWarning: Recall and F-score are ill-defined and being set to 0.0 in labels with no true samples. Use `zero_division` parameter to control this behavior.\n",
      "  _warn_prf(average, modifier, msg_start, len(result))\n",
      "c:\\users\\asus\\pycharmprojects\\metinmadenciliği\\venv\\lib\\site-packages\\sklearn\\metrics\\_classification.py:1245: UndefinedMetricWarning: Precision and F-score are ill-defined and being set to 0.0 in labels with no predicted samples. Use `zero_division` parameter to control this behavior.\n",
      "  _warn_prf(average, modifier, msg_start, len(result))\n",
      "c:\\users\\asus\\pycharmprojects\\metinmadenciliği\\venv\\lib\\site-packages\\sklearn\\metrics\\_classification.py:1245: UndefinedMetricWarning: Recall and F-score are ill-defined and being set to 0.0 in labels with no true samples. Use `zero_division` parameter to control this behavior.\n",
      "  _warn_prf(average, modifier, msg_start, len(result))\n",
      "c:\\users\\asus\\pycharmprojects\\metinmadenciliği\\venv\\lib\\site-packages\\sklearn\\metrics\\_classification.py:1245: UndefinedMetricWarning: Precision and F-score are ill-defined and being set to 0.0 in labels with no predicted samples. Use `zero_division` parameter to control this behavior.\n",
      "  _warn_prf(average, modifier, msg_start, len(result))\n",
      "c:\\users\\asus\\pycharmprojects\\metinmadenciliği\\venv\\lib\\site-packages\\sklearn\\metrics\\_classification.py:1245: UndefinedMetricWarning: Recall and F-score are ill-defined and being set to 0.0 in labels with no true samples. Use `zero_division` parameter to control this behavior.\n",
      "  _warn_prf(average, modifier, msg_start, len(result))\n"
     ]
    }
   ],
   "source": [
    "from sklearn.metrics import classification_report\n",
    "print(classification_report(topics_test, topics_pred))"
   ]
  },
  {
   "cell_type": "code",
   "execution_count": null,
   "id": "864f0ee9",
   "metadata": {},
   "outputs": [],
   "source": []
  }
 ],
 "metadata": {
  "kernelspec": {
   "display_name": "Python 3",
   "language": "python",
   "name": "python3"
  },
  "language_info": {
   "codemirror_mode": {
    "name": "ipython",
    "version": 3
   },
   "file_extension": ".py",
   "mimetype": "text/x-python",
   "name": "python",
   "nbconvert_exporter": "python",
   "pygments_lexer": "ipython3",
   "version": "3.7.8"
  }
 },
 "nbformat": 4,
 "nbformat_minor": 5
}
